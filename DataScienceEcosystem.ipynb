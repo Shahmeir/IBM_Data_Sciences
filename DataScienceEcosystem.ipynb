{
 "cells": [
  {
   "cell_type": "markdown",
   "id": "8cf0db79-f365-4c4c-a081-4af2f8d680ee",
   "metadata": {},
   "source": [
    "# Data Science Tools and Ecosystem"
   ]
  },
  {
   "cell_type": "markdown",
   "id": "e1d98d5b-04f4-41dc-83ce-a98b9c5905d7",
   "metadata": {
    "tags": []
   },
   "source": [
    "\n",
    "#### In this notebook, Data Science Tools and Ecosystem are summarized, providing an overview of various tools, libraries, and frameworks used in data science for tasks such as data manipulation, analysis, visualization, and machine learning. Additionally, the notebook highlights the importance of an integrated environment that supports the end-to-end workflow of a data science project."
   ]
  },
  {
   "cell_type": "markdown",
   "id": "5f6f3dbc-33f9-4219-ab48-ae64fe33afdb",
   "metadata": {
    "tags": []
   },
   "source": [
    "### Objectives:\n",
    "- list popular languages for Data Science\n",
    "- List popular libraries for Data Science\n",
    "- list popular tools for Data Science\n",
    "- Provide simple arithmetics used in Data Science\n",
    "\n",
    "## Shahmeir Shaikh\n",
    "Shahmeir Shaikh"
   ]
  },
  {
   "cell_type": "markdown",
   "id": "e905b8d3-bed0-4260-af3e-34108964dde0",
   "metadata": {},
   "source": [
    "# Some of the popular languages that Data Scientists user are:\n",
    "\n",
    "1. Python\n",
    "2. RStudio \n",
    "3. Julia\n",
    "4. Java"
   ]
  },
  {
   "cell_type": "markdown",
   "id": "3a6f3b95-f9e8-4d3c-bb75-9b6236846b00",
   "metadata": {},
   "source": [
    "# Some commonly used libraries used by Data Scientist indclude:\n",
    "\n",
    "1. NumPy\n",
    "2. Pandas\n",
    "3. Matplotlib\n"
   ]
  },
  {
   "cell_type": "markdown",
   "id": "aab8bb14-d910-4bc8-9189-9395555f2042",
   "metadata": {},
   "source": [
    "| Data Science Tools |\n",
    "|--------------------|\n",
    "|Jupiter Notebook|\n",
    "|RStudio|\n",
    "|Apache Zeppelin|\n"
   ]
  },
  {
   "cell_type": "markdown",
   "id": "81edad7d-6556-4abb-8e53-f8d08ce0ed08",
   "metadata": {},
   "source": [
    "### Bellow are a few examples of evaluating arithmetic expressions in python"
   ]
  },
  {
   "cell_type": "code",
   "execution_count": 11,
   "id": "0475e722-b7e9-4a96-bc25-b4b064de60ed",
   "metadata": {
    "tags": []
   },
   "outputs": [
    {
     "data": {
      "text/plain": [
       "17"
      ]
     },
     "execution_count": 11,
     "metadata": {},
     "output_type": "execute_result"
    }
   ],
   "source": [
    "#This is a simple arithmetic expression to multiply then add integer\n",
    "(3*4)+5\n"
   ]
  },
  {
   "cell_type": "code",
   "execution_count": 18,
   "id": "ba2d83e7-82c4-4ac1-9a46-c08ac0425058",
   "metadata": {
    "tags": []
   },
   "outputs": [
    {
     "data": {
      "text/plain": [
       "3.3333333333333335"
      ]
     },
     "execution_count": 18,
     "metadata": {},
     "output_type": "execute_result"
    }
   ],
   "source": [
    "#This wil convet 200 minutes to hours by dividing by 60\n",
    "200/60"
   ]
  },
  {
   "cell_type": "code",
   "execution_count": null,
   "id": "4eb00d3b-9bba-417b-85ee-79641c8376d4",
   "metadata": {},
   "outputs": [],
   "source": []
  }
 ],
 "metadata": {
  "kernelspec": {
   "display_name": "Python",
   "language": "python",
   "name": "conda-env-python-py"
  },
  "language_info": {
   "codemirror_mode": {
    "name": "ipython",
    "version": 3
   },
   "file_extension": ".py",
   "mimetype": "text/x-python",
   "name": "python",
   "nbconvert_exporter": "python",
   "pygments_lexer": "ipython3",
   "version": "3.7.12"
  }
 },
 "nbformat": 4,
 "nbformat_minor": 5
}
